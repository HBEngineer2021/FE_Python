{
 "cells": [
  {
   "cell_type": "code",
   "execution_count": 7,
   "metadata": {},
   "outputs": [],
   "source": [
    "#2-1-1 ファイルからの入出力\n",
    "#ファイルからデータを取得したり、ファイルに書き込んだり出来る\n",
    "\n",
    "#open()関数の使用\n",
    "#ファイルオブジェクトを作成し、変数に代入　→　open()関数\n",
    "\n",
    "#open()関数の使用\n",
    "fp = open('sample.txt', 'wt') #ファイルオブジェクトfpを作成"
   ]
  },
  {
   "cell_type": "code",
   "execution_count": 8,
   "metadata": {},
   "outputs": [],
   "source": [
    "#fpは、ファイルオブジェクトを格納する変数\n",
    "#'sample.txt'はファイル名　→　使用するファイル名を指定\n",
    "#'wt' (1文字ずつ意味がある)→　ファイルの読み書きのモード\n",
    "#'wt' →　テキストデータの新規書き込み"
   ]
  },
  {
   "cell_type": "code",
   "execution_count": 9,
   "metadata": {},
   "outputs": [
    {
     "data": {
      "text/plain": [
       "<_io.TextIOWrapper name='sample.txt' mode='r' encoding='UTF-8'>"
      ]
     },
     "execution_count": 9,
     "metadata": {},
     "output_type": "execute_result"
    }
   ],
   "source": [
    "#ファイルの書き込みのモード\n",
    "\n",
    "#' r ' 読み込み専用（デフォルト）\n",
    "fp = open('sample.txt', 'r')\n",
    "fp"
   ]
  },
  {
   "cell_type": "code",
   "execution_count": 10,
   "metadata": {},
   "outputs": [
    {
     "name": "stdout",
     "output_type": "stream",
     "text": [
      "\n"
     ]
    }
   ],
   "source": [
    "text = fp.read()\n",
    "print(text)"
   ]
  },
  {
   "cell_type": "code",
   "execution_count": 11,
   "metadata": {},
   "outputs": [],
   "source": [
    "#' w ' 新規の書き込み専用\n",
    "fp = open('samp1.txt', 'w')"
   ]
  },
  {
   "cell_type": "code",
   "execution_count": 12,
   "metadata": {},
   "outputs": [
    {
     "ename": "FileExistsError",
     "evalue": "[Errno 17] File exists: 'samp2.txt'",
     "output_type": "error",
     "traceback": [
      "\u001b[0;31m---------------------------------------------------------------------------\u001b[0m",
      "\u001b[0;31mFileExistsError\u001b[0m                           Traceback (most recent call last)",
      "\u001b[0;32m<ipython-input-12-7665d064622a>\u001b[0m in \u001b[0;36m<module>\u001b[0;34m\u001b[0m\n\u001b[1;32m      1\u001b[0m \u001b[0;31m#' x ' 新規作成\u001b[0m\u001b[0;34m\u001b[0m\u001b[0;34m\u001b[0m\u001b[0;34m\u001b[0m\u001b[0m\n\u001b[0;32m----> 2\u001b[0;31m \u001b[0mfp\u001b[0m \u001b[0;34m=\u001b[0m \u001b[0mopen\u001b[0m\u001b[0;34m(\u001b[0m\u001b[0;34m'samp2.txt'\u001b[0m\u001b[0;34m,\u001b[0m \u001b[0;34m'x'\u001b[0m\u001b[0;34m)\u001b[0m\u001b[0;34m\u001b[0m\u001b[0;34m\u001b[0m\u001b[0m\n\u001b[0m",
      "\u001b[0;31mFileExistsError\u001b[0m: [Errno 17] File exists: 'samp2.txt'"
     ]
    }
   ],
   "source": [
    "#' x ' 新規作成\n",
    "fp = open('samp2.txt', 'x')"
   ]
  },
  {
   "cell_type": "code",
   "execution_count": 13,
   "metadata": {},
   "outputs": [
    {
     "data": {
      "text/plain": [
       "8"
      ]
     },
     "execution_count": 13,
     "metadata": {},
     "output_type": "execute_result"
    }
   ],
   "source": [
    "#' a ' 既存のファイルの末尾に追記\n",
    "fp = open('samp1.txt', 'a')\n",
    "fp.write('こんにちは世界\\n')"
   ]
  },
  {
   "cell_type": "code",
   "execution_count": 14,
   "metadata": {},
   "outputs": [
    {
     "data": {
      "text/plain": [
       "<_io.TextIOWrapper name='samp1.txt' mode='r' encoding='UTF-8'>"
      ]
     },
     "execution_count": 14,
     "metadata": {},
     "output_type": "execute_result"
    }
   ],
   "source": [
    "fp = open('samp1.txt', 'r')\n",
    "fp"
   ]
  },
  {
   "cell_type": "code",
   "execution_count": 15,
   "metadata": {},
   "outputs": [
    {
     "name": "stdout",
     "output_type": "stream",
     "text": [
      "こんにちは世界\n",
      "\n"
     ]
    }
   ],
   "source": [
    "text = fp.read()\n",
    "print(text)"
   ]
  },
  {
   "cell_type": "code",
   "execution_count": 16,
   "metadata": {},
   "outputs": [
    {
     "name": "stdout",
     "output_type": "stream",
     "text": [
      "こんにちは世界\n",
      "\n"
     ]
    }
   ],
   "source": [
    "#' t ' 文字などのテキストデータをテキストモードで扱う\n",
    "fp = open('samp1.txt', 'rt')\n",
    "text = fp.read()\n",
    "print(text)"
   ]
  },
  {
   "cell_type": "code",
   "execution_count": 17,
   "metadata": {},
   "outputs": [
    {
     "name": "stdout",
     "output_type": "stream",
     "text": [
      "b'\\xe3\\x81\\x93\\xe3\\x82\\x93\\xe3\\x81\\xab\\xe3\\x81\\xa1\\xe3\\x81\\xaf\\xe4\\xb8\\x96\\xe7\\x95\\x8c\\n'\n"
     ]
    }
   ],
   "source": [
    "#'b' 画像などのバイナリデータをバイナリモードで扱う\n",
    "fp = open('samp1.txt', 'rb')\n",
    "text = fp.read()\n",
    "print(text)"
   ]
  },
  {
   "cell_type": "code",
   "execution_count": 18,
   "metadata": {},
   "outputs": [
    {
     "name": "stdout",
     "output_type": "stream",
     "text": [
      "こんにちは世界\n",
      "\n"
     ]
    }
   ],
   "source": [
    "#'+' 読み書きの両方を行う\n",
    "#'r+'  ファイルの内容を読み込んで更新\n",
    "fp = open('samp1.txt', 'r+')\n",
    "text = fp.read()\n",
    "print(text)"
   ]
  },
  {
   "cell_type": "code",
   "execution_count": 19,
   "metadata": {},
   "outputs": [
    {
     "data": {
      "text/plain": [
       "12"
      ]
     },
     "execution_count": 19,
     "metadata": {},
     "output_type": "execute_result"
    }
   ],
   "source": [
    "#'w+' ファイルの内容を削除して更新\n",
    "fp = open('samp1.txt', 'w+')\n",
    "fp.write('Hello, World')"
   ]
  },
  {
   "cell_type": "code",
   "execution_count": 20,
   "metadata": {},
   "outputs": [
    {
     "name": "stdout",
     "output_type": "stream",
     "text": [
      "Hello, World\n"
     ]
    }
   ],
   "source": [
    "fp = open('samp1.txt', 'r')\n",
    "text = fp.read()\n",
    "print(text) # Hello, Worldに変更している"
   ]
  },
  {
   "cell_type": "code",
   "execution_count": 21,
   "metadata": {},
   "outputs": [
    {
     "data": {
      "text/plain": [
       "9"
      ]
     },
     "execution_count": 21,
     "metadata": {},
     "output_type": "execute_result"
    }
   ],
   "source": [
    "#'a+' ファイルの内容を追記する\n",
    "fp = open('samp1.txt', 'a+')\n",
    "fp.write('\\nこんにちは世界\\n')"
   ]
  },
  {
   "cell_type": "code",
   "execution_count": 22,
   "metadata": {},
   "outputs": [
    {
     "name": "stdout",
     "output_type": "stream",
     "text": [
      "Hello, World\n",
      "こんにちは世界\n",
      "\n"
     ]
    }
   ],
   "source": [
    "fp = open('samp1.txt', 'r+')\n",
    "text = fp.read()\n",
    "print(text)"
   ]
  },
  {
   "cell_type": "code",
   "execution_count": 23,
   "metadata": {},
   "outputs": [],
   "source": [
    "# 【例】使用後のファイルを終了\n",
    "fp.close() #  ファイルオブジェクトfpを終了させる"
   ]
  },
  {
   "cell_type": "code",
   "execution_count": 24,
   "metadata": {},
   "outputs": [],
   "source": [
    "#ファイルの書き込み\n",
    "#【例】ファイルの作成と書き込み、終了\n",
    "fp = open('sample.txt', 'wt') # ファイルを書き込みモードで作成\n",
    "fp.write('This is sample') # ファイルに書き込み\n",
    "fp.close() # ファイルを終了"
   ]
  },
  {
   "cell_type": "code",
   "execution_count": 25,
   "metadata": {},
   "outputs": [],
   "source": [
    "#【例】改行を伴う文字列の書き込み\n",
    "fp = open('sample.txt', 'wt')\n",
    "fp.write('This is sample1. \\n') # ファイルに１行書き込み\n",
    "fp.write('This is sample2. \\n')# ファイルに１行書き込み\n",
    "fp.close()\n",
    "#同じファイルを二回、'w'モードで使用すると、前の内容は内容を削除されなくなる"
   ]
  },
  {
   "cell_type": "code",
   "execution_count": 26,
   "metadata": {},
   "outputs": [
    {
     "data": {
      "text/plain": [
       "'This is sample1. \\nThis is sample2. \\n'"
      ]
     },
     "execution_count": 26,
     "metadata": {},
     "output_type": "execute_result"
    }
   ],
   "source": [
    "#ファイルの読み込み\n",
    "#【例】read()によるファイルの読み込み\n",
    "fp = open('sample.txt', 'rt') # ファイルを読み込みモードで作成\n",
    "fp.read() # ファイル内容を全部読み込み"
   ]
  },
  {
   "cell_type": "code",
   "execution_count": 27,
   "metadata": {},
   "outputs": [
    {
     "data": {
      "text/plain": [
       "'This is sample1. \\n'"
      ]
     },
     "execution_count": 27,
     "metadata": {},
     "output_type": "execute_result"
    }
   ],
   "source": [
    "#readline()メソッド → １行ずつ読み込みたい場合に使用\n",
    "#readline()によるファイル読み込み\n",
    "fp = open('sample.txt', 'rt')\n",
    "fp.readline()"
   ]
  },
  {
   "cell_type": "code",
   "execution_count": 28,
   "metadata": {},
   "outputs": [
    {
     "data": {
      "text/plain": [
       "'This is sample2. \\n'"
      ]
     },
     "execution_count": 28,
     "metadata": {},
     "output_type": "execute_result"
    }
   ],
   "source": [
    "fp.readline()"
   ]
  },
  {
   "cell_type": "code",
   "execution_count": 29,
   "metadata": {},
   "outputs": [
    {
     "name": "stdout",
     "output_type": "stream",
     "text": [
      "This is sample1. \n",
      " This is sample2. \n",
      " "
     ]
    }
   ],
   "source": [
    "#forループによる１行ずつの読み込み処理\n",
    "fp = open('sample.txt', 'rt')\n",
    "for line in fp: # ファイルから１行ずつ読み込んでlineに設定\n",
    "    print(line, end = ' ') # ファイル内容を表示"
   ]
  },
  {
   "cell_type": "code",
   "execution_count": 30,
   "metadata": {},
   "outputs": [
    {
     "name": "stdout",
     "output_type": "stream",
     "text": [
      "T h i s   i s   s a m p l e 1 .   \n",
      " T h i s   i s   s a m p l e 2 .   \n",
      " "
     ]
    }
   ],
   "source": [
    "#安全なファイル入出力の方法\n",
    "#ファイルオブジェクトは、open()関数後にclose()メソッドが必要\n",
    "#→ ファイルの破損等の問題が発生する恐れがあるため\n",
    "#安全のために、with句を用いる\n",
    "#【例】with句の使用\n",
    "with open('sample.txt', 'rt') as fp: # ファイルを読み込みモードで安全に作成\n",
    "    data = fp.read() # ファイル内容を全て変数dataに読み込み\n",
    "    \n",
    "for line in data: # ファイルを終了させてからdataを活用\n",
    "    print(line, end = ' ')"
   ]
  },
  {
   "cell_type": "code",
   "execution_count": 31,
   "metadata": {},
   "outputs": [],
   "source": [
    "#日本語ファイルの読み込み → 文字コードによって不具合が生じる\n",
    "#読み込む文字コードを予め指定する必要がある\n",
    "#日本語 → UTF-8, shift_jis, euc_jp （UTF-8を推奨）\n",
    "#【例】文字コードをUTF-8に指定\n",
    "fp = open('samole.txt', 'wt', encoding = 'utf-8')"
   ]
  },
  {
   "cell_type": "code",
   "execution_count": 32,
   "metadata": {},
   "outputs": [],
   "source": [
    "#【POINT】\n",
    "#ファイルの使用後は、「fp = open(file, mode)」 を行う\n",
    "#書き込みはfp.write()、　読み込みはfp.read()"
   ]
  },
  {
   "cell_type": "code",
   "execution_count": 33,
   "metadata": {},
   "outputs": [
    {
     "data": {
      "text/plain": [
       "\"\\n【構文】\\u3000print()関数\\u3000\\nprint(objects, sep =' ', end = '\\n', file = sys.stdout, flush = False)\\nobjects, sep, end, file, flushを引数と呼ぶ\\n\""
      ]
     },
     "execution_count": 33,
     "metadata": {},
     "output_type": "execute_result"
    }
   ],
   "source": [
    "#2-1-2 フォーマット\n",
    "#→ formatメソッドなどを使用することで、出力を様々な形式に変更が可能\n",
    "#print()関数\n",
    "\"\"\"\n",
    "【構文】　print()関数　\n",
    "print(objects, sep =' ', end = '\\n', file = sys.stdout, flush = False)\n",
    "objects, sep, end, file, flushを引数と呼ぶ\n",
    "\"\"\""
   ]
  },
  {
   "cell_type": "code",
   "execution_count": 34,
   "metadata": {},
   "outputs": [],
   "source": [
    "#objects　→ 出力内容 \n",
    "#複数のオブジェクトを並べて記述、データ型も利用可"
   ]
  },
  {
   "cell_type": "code",
   "execution_count": 35,
   "metadata": {},
   "outputs": [
    {
     "name": "stdout",
     "output_type": "stream",
     "text": [
      "left | right\n"
     ]
    }
   ],
   "source": [
    "#sep → 区切り文字\n",
    "#【例】sepによる複数オブジェクトの区切り\n",
    "print('left', 'right', sep = ' | ')"
   ]
  },
  {
   "cell_type": "code",
   "execution_count": 36,
   "metadata": {},
   "outputs": [
    {
     "name": "stdout",
     "output_type": "stream",
     "text": [
      "0 1 2 3 4 "
     ]
    }
   ],
   "source": [
    "#end → 何を挿入するかをendで指定　\n",
    "#空白の場合、複数の出力を１行にまとめられる\n",
    "#【例】endに空白を指定\n",
    "for i in range(5):\n",
    "    print(i, end = ' ')"
   ]
  },
  {
   "cell_type": "code",
   "execution_count": 37,
   "metadata": {},
   "outputs": [],
   "source": [
    "#file → ファイルファイルオブジェクトの指定可\n",
    "#デフォルト　→ sys.stdout\n",
    "#【例】出力するファイルオブジェクトを指定\n",
    "with open('sample.txt', 'at') as fp: # ファイルに追記するために安全に開く\n",
    "    print('Hello, World!', file = fp) # ファイルオブジェクトfpを出力"
   ]
  },
  {
   "cell_type": "code",
   "execution_count": 38,
   "metadata": {},
   "outputs": [],
   "source": [
    "#flush → 強制的に出力させるかどうかを指定\n",
    "#TrueかFalseを指定し、デフォルトはFalse"
   ]
  },
  {
   "cell_type": "code",
   "execution_count": 39,
   "metadata": {},
   "outputs": [
    {
     "data": {
      "text/plain": [
       "'私はマインです。25歳です。'"
      ]
     },
     "execution_count": 39,
     "metadata": {},
     "output_type": "execute_result"
    }
   ],
   "source": [
    "#出力を見やすく変形する方法\n",
    "#Pythonの出力形式\n",
    "\"\"\"\n",
    "①フォーマット済み文字列リテラルを使用する\n",
    "②文字列strに対してのstr.format()メソッドを使用する\n",
    "③文字列の結合操作（＋）などを使用し、手動で設定する\n",
    "\"\"\"\n",
    "\n",
    "#①フォーマット済み文字列リテラルを使用する\n",
    "#フォーマット済み文字列リテラル　→ Pythonの式を間に埋め込むことができる文字列\n",
    "# 引用符（「'」や「\"」など）の前に「f」または「F」を付けて文字列を始める\n",
    "#{ }で囲んだ部分に変数などのPythonの式を入れることができる\n",
    "#【例】フォーマット済み文字列リテラルの使用\n",
    "name = 'マイン'\n",
    "age = 25\n",
    "f'私は{name}です。{age}歳です。'"
   ]
  },
  {
   "cell_type": "code",
   "execution_count": 40,
   "metadata": {},
   "outputs": [
    {
     "data": {
      "text/plain": [
       "'私はマインです。25歳です。'"
      ]
     },
     "execution_count": 40,
     "metadata": {},
     "output_type": "execute_result"
    }
   ],
   "source": [
    "#②文字列strに対してのstr.format()メソッドを使用する\n",
    "#str.method()メソッド　→ 事前に決めた文字列strに値を代入していく方法\n",
    "#{ } で囲んだ部分に、nameとageの順に値が入る\n",
    "#【例】str.format()メソッドの使用\n",
    "name = 'マイン'\n",
    "age = 25\n",
    "string = '私は{}です。{}歳です。' # {}の間に、空白を入れない。⇨ {} ◎ / { } ❎\n",
    "string.format(name, age)"
   ]
  },
  {
   "cell_type": "code",
   "execution_count": 41,
   "metadata": {},
   "outputs": [
    {
     "data": {
      "text/plain": [
       "'私はマインです。25歳です。'"
      ]
     },
     "execution_count": 41,
     "metadata": {},
     "output_type": "execute_result"
    }
   ],
   "source": [
    "#③手動で設定する → 単純に文字列連結の方法\n",
    "#連結の方法\n",
    "\"\"\"\n",
    "①演算子（＋）\n",
    "②str.join() 文字列連結メソッド\n",
    "\"\"\"\n",
    "\n",
    "#【例】文字列の結合操作\n",
    "#①演算子(＋)\n",
    "name = 'マイン'\n",
    "age = 25\n",
    "'私は'+ name +'です。'+str(age)+'歳です。'"
   ]
  },
  {
   "cell_type": "code",
   "execution_count": 42,
   "metadata": {},
   "outputs": [
    {
     "name": "stdout",
     "output_type": "stream",
     "text": [
      "Takeshi, matumoto, morikawa\n"
     ]
    }
   ],
   "source": [
    "#②str.join() 文字列連結メソッド\n",
    "list = [\"Takeshi\", \"matumoto\", \"morikawa\"]\n",
    "join = ', '.join(list)\n",
    "print(join)"
   ]
  },
  {
   "cell_type": "code",
   "execution_count": null,
   "metadata": {},
   "outputs": [],
   "source": []
  }
 ],
 "metadata": {
  "kernelspec": {
   "display_name": "Python 3",
   "language": "python",
   "name": "python3"
  },
  "language_info": {
   "codemirror_mode": {
    "name": "ipython",
    "version": 3
   },
   "file_extension": ".py",
   "mimetype": "text/x-python",
   "name": "python",
   "nbconvert_exporter": "python",
   "pygments_lexer": "ipython3",
   "version": "3.8.5"
  }
 },
 "nbformat": 4,
 "nbformat_minor": 4
}
