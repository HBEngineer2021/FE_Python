{
 "cells": [
  {
   "cell_type": "code",
   "execution_count": 1,
   "metadata": {},
   "outputs": [],
   "source": [
    "#1-3-1 プログラムの基本3構造 → 順次、選択、反復\n",
    "\n",
    "#構造化プログラミング\n",
    "#プログラムの構造をシンプルにすることで、プログラムを分かりやすくする\n",
    "\n",
    "#基本3構造\n",
    "#順次、選択、反復（繰返し）の3つの構造で、プログラムを記述\n",
    "#順次 → 実行内容を上から記述\n",
    "#選択 → 条件によって、次の処理を変える\n",
    "#反復（繰返し） → 特定の処理を繰り返す\n",
    "\n",
    "#フローチャート\n",
    "#楕円で両端が丸い長方形 → 開始、終了\n",
    "#長方形 → 単純な処理\n",
    "#菱形　→ 選択の分岐（条件式）　→ Yes, Noで処理を行う\n",
    "#上下半分の六角形の囲む範囲　→ 繰返し\n",
    "\n",
    "#疑似言語\n",
    "#参考文献 : http://www.mij-s.com/pafu/web_fe/al/giji/giji.htm\n",
    "#「・」　→ 順次\n",
    "#「▲」、「▼」　→　選択\n",
    "#「■」　→　反復\n",
    "\n",
    "#Pythonでの基本3構造の表現\n",
    "#順次は処理を順番に記述する\n",
    "#選択はif文\n",
    "#判定を行う反復はwhile文\n",
    "#一定の決まった回数を繰り返す反復はfor文"
   ]
  },
  {
   "cell_type": "code",
   "execution_count": 2,
   "metadata": {},
   "outputs": [
    {
     "name": "stdout",
     "output_type": "stream",
     "text": [
      "OK\n"
     ]
    }
   ],
   "source": [
    "#1-3-2　選択型のプログラム\n",
    "\n",
    "#if文の構造\n",
    "\"\"\"\n",
    "if 条件式1:\n",
    "        条件式1に当てはまったときの処理\n",
    "elif 条件式2:\n",
    "        条件式1に当てはまらず、条件式2に当てはまったときの処理\n",
    "else:\n",
    "        どの条件式にも当てはまらなかったときの処理\n",
    "\"\"\"\n",
    "\n",
    "#【例】単岐選択処理\n",
    "a = 3\n",
    "if a > 0: #aが0より大きい場合\n",
    "    print('OK')"
   ]
  },
  {
   "cell_type": "code",
   "execution_count": 3,
   "metadata": {},
   "outputs": [
    {
     "name": "stdout",
     "output_type": "stream",
     "text": [
      "3\n",
      "たくさん\n"
     ]
    }
   ],
   "source": [
    "#【例】elif部\n",
    "b = int(input())\n",
    "if b == 0: #bが0の場合\n",
    "    print('ぜろ')\n",
    "elif b == 1: #bが0以外で、1の場合\n",
    "    print('いち')\n",
    "elif b == 2: #bが0,1以外で、2の場合\n",
    "    print('に')\n",
    "else: #bが0,1,2以外の場合\n",
    "    print('たくさん')"
   ]
  },
  {
   "cell_type": "code",
   "execution_count": 4,
   "metadata": {},
   "outputs": [
    {
     "name": "stdout",
     "output_type": "stream",
     "text": [
      "OK\n"
     ]
    }
   ],
   "source": [
    "#条件式での判定\n",
    "#使用できる演算子は、and, or, not\n",
    "\n",
    "#if文の条件式\n",
    "\n",
    "#条件式1 and 条件式2\n",
    "#条件式1が偽であれば、条件式1の値を返す。それ以外の場合は条件式2の値を返す\n",
    "a, b = 1, 2\n",
    "if a and b:\n",
    "    print('OK')"
   ]
  },
  {
   "cell_type": "code",
   "execution_count": 5,
   "metadata": {},
   "outputs": [
    {
     "name": "stdout",
     "output_type": "stream",
     "text": [
      "OK\n"
     ]
    }
   ],
   "source": [
    "#条件式1 or 条件式2\n",
    "#条件式1が真であれば、条件式1の値を返す。それ以外の場合は条件式2の値を返す\n",
    "a, b = 1, 2\n",
    "if a or b:\n",
    "    print('OK')"
   ]
  },
  {
   "cell_type": "code",
   "execution_count": 6,
   "metadata": {},
   "outputs": [
    {
     "name": "stdout",
     "output_type": "stream",
     "text": [
      "3\n",
      "OK\n"
     ]
    }
   ],
   "source": [
    "#not　条件式\n",
    "#条件式が偽であれば、Trueを返す。それ以外の場合はFalseを返す\n",
    "a = int(input())\n",
    "if not a == 0:\n",
    "    print('OK')"
   ]
  },
  {
   "cell_type": "code",
   "execution_count": 7,
   "metadata": {},
   "outputs": [
    {
     "data": {
      "text/plain": [
       "2"
      ]
     },
     "execution_count": 7,
     "metadata": {},
     "output_type": "execute_result"
    }
   ],
   "source": [
    "#【例】and演算の結果\n",
    "a, b = 1, 2\n",
    "a and b"
   ]
  },
  {
   "cell_type": "code",
   "execution_count": 8,
   "metadata": {},
   "outputs": [
    {
     "name": "stdout",
     "output_type": "stream",
     "text": [
      "OK\n"
     ]
    }
   ],
   "source": [
    "#【例】if文の条件判定\n",
    "if a and b:\n",
    "    print('OK')"
   ]
  },
  {
   "cell_type": "code",
   "execution_count": 9,
   "metadata": {},
   "outputs": [
    {
     "name": "stdout",
     "output_type": "stream",
     "text": [
      "OK\n"
     ]
    }
   ],
   "source": [
    "#簡略化した表現\n",
    "#単純なif文　→ インデントを行わず1行で表現が可能\n",
    "\n",
    "#【例】簡略化したif文\n",
    "a = 3\n",
    "if a == 3: print('OK')"
   ]
  },
  {
   "cell_type": "code",
   "execution_count": 10,
   "metadata": {},
   "outputs": [
    {
     "name": "stdout",
     "output_type": "stream",
     "text": [
      "OK\n"
     ]
    }
   ],
   "source": [
    "#複雑な条件式\n",
    "#【例】複雑な条件式\n",
    "a, b, c = 7, 5, 3\n",
    "if a > b > c: #aよりもb, bよりもcが小さい場合\n",
    "    print('OK') #'OK'を出力"
   ]
  },
  {
   "cell_type": "code",
   "execution_count": 11,
   "metadata": {},
   "outputs": [],
   "source": [
    "#a > b > cは、a > b and b > c　とほぼ同様"
   ]
  },
  {
   "cell_type": "code",
   "execution_count": 12,
   "metadata": {},
   "outputs": [
    {
     "name": "stdout",
     "output_type": "stream",
     "text": [
      "OK\n"
     ]
    }
   ],
   "source": [
    "if a > b and b > c:\n",
    "    print('OK')"
   ]
  },
  {
   "cell_type": "code",
   "execution_count": 13,
   "metadata": {},
   "outputs": [
    {
     "name": "stdout",
     "output_type": "stream",
     "text": [
      "1 2 3 4 5 6 7 8 9 END\n"
     ]
    }
   ],
   "source": [
    "#1-3-3 反復型のプログラム\n",
    "\n",
    "#while文\n",
    "#while文の基本構造\n",
    "\"\"\"\n",
    "while 条件式:\n",
    "    条件式に当てはまったときに繰り返す処理\n",
    "else:\n",
    "    条件式に当てはまらなかったときの処理\n",
    "\"\"\"\n",
    "\n",
    "#while文を強制的に終了　→　break文を使用\n",
    "\n",
    "#【例】while文の実行\n",
    "a = 1\n",
    "while a < 10: #aが10未満の場合繰り返す\n",
    "    print(a, end = ' ') #aを区切り文字　' '　(スペース)で出力\n",
    "    a += 1 #aに1加える\n",
    "else: #while文の条件に当てはまらなくなったとき\n",
    "    print('END') #'END'を出力"
   ]
  },
  {
   "cell_type": "code",
   "execution_count": 14,
   "metadata": {},
   "outputs": [
    {
     "name": "stdout",
     "output_type": "stream",
     "text": [
      "1 2 3 4 "
     ]
    }
   ],
   "source": [
    "#【例】break文を使ったwhile文\n",
    "a =1\n",
    "while a < 10:\n",
    "    print(a, end = ' ')\n",
    "    a += 1\n",
    "    if a == 5: #aが5のとき\n",
    "        break #while文の処理を中断\n",
    "else:\n",
    "    print('END')"
   ]
  },
  {
   "cell_type": "code",
   "execution_count": 15,
   "metadata": {},
   "outputs": [
    {
     "name": "stdout",
     "output_type": "stream",
     "text": [
      "1 2 3 4 "
     ]
    }
   ],
   "source": [
    "#【例】break文を使った無限ループの終了処理\n",
    "a = 1\n",
    "while True: #無限ループ\n",
    "    print(a, end =' ')\n",
    "    a += 1\n",
    "    if a == 5: #aが5のとき\n",
    "        break #while文の処理を中断"
   ]
  },
  {
   "cell_type": "code",
   "execution_count": 16,
   "metadata": {},
   "outputs": [
    {
     "name": "stdout",
     "output_type": "stream",
     "text": [
      "睦月 如月 弥生 卯月 皐月 水無月 文月 葉月 長月 神無月 霜月 師走 "
     ]
    }
   ],
   "source": [
    "#for文\n",
    "#Pythonでイテレータを使用する反復　→　for文\n",
    "\n",
    "#【例】for文の基本構造\n",
    "\"\"\"\n",
    "for 要素 in イテレータ:\n",
    "    繰り返す処理\n",
    "\"\"\"\n",
    "\n",
    "#イテレータ　→　リスト、タプルなど、要素をもつデータ型\n",
    "\n",
    "#for文でリストの要素を順に表示\n",
    "months = ['睦月', '如月', '弥生', '卯月', '皐月', '水無月', '文月', '葉月', '長月', '神無月', '霜月', '師走']\n",
    "for month in months: #リストmonthsの要素をmonthに入れて繰り返す\n",
    "    print(month, end =' ') #monthを区切り文字' '（スペース）で出力"
   ]
  },
  {
   "cell_type": "code",
   "execution_count": 17,
   "metadata": {},
   "outputs": [
    {
     "name": "stdout",
     "output_type": "stream",
     "text": [
      "0 Hello\n",
      "1 Hello\n",
      "2 Hello\n"
     ]
    }
   ],
   "source": [
    "#range()関数\n",
    "#単純に10回繰り返すなど、要素に対するイテレータが特にない　→　range()関数\n",
    "\n",
    "#for文でのrange()関数の利用\n",
    "for i in range(3): #range(3)では、0以上3未満の整数で、0, 1, 2の3つの値を生成\n",
    "    print(i, 'Hello')"
   ]
  },
  {
   "cell_type": "code",
   "execution_count": 18,
   "metadata": {},
   "outputs": [
    {
     "data": {
      "text/plain": [
       "[1, 3, 5, 7, 9]"
      ]
     },
     "execution_count": 18,
     "metadata": {},
     "output_type": "execute_result"
    }
   ],
   "source": [
    "#range()関数\n",
    "\"\"\"\n",
    "range(start, stop, step)\n",
    "\"\"\"\n",
    "\n",
    "#start以上、stop未満、stepの値ごと\n",
    "#startとstepは省略可能 → デフォルトでは、startが0、stepは1\n",
    "#stepにはマイナスの値も設定可能\n",
    "\n",
    "#【例】range()関数による値の出力\n",
    "list(range(1, 10, 2))"
   ]
  },
  {
   "cell_type": "code",
   "execution_count": 19,
   "metadata": {},
   "outputs": [
    {
     "name": "stdout",
     "output_type": "stream",
     "text": [
      "1 3 5 7 9 "
     ]
    }
   ],
   "source": [
    "#break文とcontinue文の使用\n",
    "for i in range(1, 100):\n",
    "    if i % 2 == 1:\n",
    "        print(i, end=' ')\n",
    "        continue\n",
    "    if i % 5 == 0:\n",
    "        break"
   ]
  },
  {
   "cell_type": "code",
   "execution_count": 20,
   "metadata": {},
   "outputs": [
    {
     "data": {
      "text/plain": [
       "'\\nwhile True:\\n    pass\\n'"
      ]
     },
     "execution_count": 20,
     "metadata": {},
     "output_type": "execute_result"
    }
   ],
   "source": [
    "#pass文 →　何もしない文\n",
    "\n",
    "#【例】pass文の使用\n",
    "\"\"\"\n",
    "while True:\n",
    "    pass\n",
    "\"\"\"\n",
    "\n",
    "#このプログラムは、「Ctrl」 + 「C」キーや停止ボタンなどで強制的に終了させる必要がある"
   ]
  },
  {
   "cell_type": "code",
   "execution_count": 21,
   "metadata": {},
   "outputs": [],
   "source": [
    "#リスト内包表記\n",
    "#リストを作成　→　簡略化したプログラムを作成\n",
    "#for文の組み合わせ　→　イテレータのそれぞれの要素に対して操作を行った結果を要素にすることができる\n",
    "#if文の組み合わせ　→　特定の条件を満たす要素だけからなる部分リストを作成することができる"
   ]
  },
  {
   "cell_type": "code",
   "execution_count": 22,
   "metadata": {},
   "outputs": [
    {
     "data": {
      "text/plain": [
       "[1, 4, 9, 16, 25]"
      ]
     },
     "execution_count": 22,
     "metadata": {},
     "output_type": "execute_result"
    }
   ],
   "source": [
    "#【例】for文によるリストsquaresの作成\n",
    "squares = []\n",
    "for n in range(1, 6):\n",
    "    squares.append(n**2) #リストrangeの数値を2乗\n",
    "squares"
   ]
  },
  {
   "cell_type": "code",
   "execution_count": 23,
   "metadata": {},
   "outputs": [
    {
     "data": {
      "text/plain": [
       "[1, 4, 9, 16, 25]"
      ]
     },
     "execution_count": 23,
     "metadata": {},
     "output_type": "execute_result"
    }
   ],
   "source": [
    "#リスト内包表現（計算式とfor句を利用）\n",
    "\"\"\"\n",
    "[ 計算式 for 要素 in イテレータ if 条件式 ]\n",
    "\"\"\"\n",
    "\n",
    "#【例】リスト内包表記を用いたリストsquaresの作成\n",
    "squares = [n**2 for n in range(1, 6)]\n",
    "squares"
   ]
  },
  {
   "cell_type": "code",
   "execution_count": 24,
   "metadata": {},
   "outputs": [
    {
     "data": {
      "text/plain": [
       "[1, 9, 25]"
      ]
     },
     "execution_count": 24,
     "metadata": {},
     "output_type": "execute_result"
    }
   ],
   "source": [
    "#【例】条件式を付与したリスト内包表記\n",
    "squares = [n**2 for n in range(1, 6) if n % 2 == 1]\n",
    "squares"
   ]
  },
  {
   "cell_type": "code",
   "execution_count": 25,
   "metadata": {},
   "outputs": [
    {
     "data": {
      "text/plain": [
       "'\\n・「while 条件式:」の後に、インデントして繰返し処理を記述\\n・「for 要素 in イテレータ:」の後に、インデントし繰返し処理を記述\\n'"
      ]
     },
     "execution_count": 25,
     "metadata": {},
     "output_type": "execute_result"
    }
   ],
   "source": [
    "#【Point】\n",
    "\"\"\"\n",
    "・「while 条件式:」の後に、インデントして繰返し処理を記述\n",
    "・「for 要素 in イテレータ:」の後に、インデントし繰返し処理を記述\n",
    "\"\"\""
   ]
  }
 ],
 "metadata": {
  "kernelspec": {
   "display_name": "Python 3",
   "language": "python",
   "name": "python3"
  },
  "language_info": {
   "codemirror_mode": {
    "name": "ipython",
    "version": 3
   },
   "file_extension": ".py",
   "mimetype": "text/x-python",
   "name": "python",
   "nbconvert_exporter": "python",
   "pygments_lexer": "ipython3",
   "version": "3.8.5"
  }
 },
 "nbformat": 4,
 "nbformat_minor": 4
}
